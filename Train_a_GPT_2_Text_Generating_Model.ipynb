{
  "nbformat": 4,
  "nbformat_minor": 0,
  "metadata": {
    "colab": {
      "name": "Train a GPT-2 Text-Generating Model",
      "provenance": [],
      "toc_visible": true,
      "include_colab_link": true
    },
    "kernelspec": {
      "name": "python3",
      "display_name": "Python 3"
    },
    "accelerator": "GPU"
  },
  "cells": [
    {
      "cell_type": "markdown",
      "metadata": {
        "id": "view-in-github",
        "colab_type": "text"
      },
      "source": [
        "<a href=\"https://colab.research.google.com/github/addadda023/GPT-2-text-generation/blob/master/Train_a_GPT_2_Text_Generating_Model.ipynb\" target=\"_parent\"><img src=\"https://colab.research.google.com/assets/colab-badge.svg\" alt=\"Open In Colab\"/></a>"
      ]
    },
    {
      "cell_type": "markdown",
      "metadata": {
        "id": "m3PRpa1mLpqI",
        "colab_type": "text"
      },
      "source": [
        "### Text generation using [GPT-2-simple](https://github.com/minimaxir/gpt-2-simple),  Python package that wraps existing model fine-tuning and generation scripts for OpenAI's GPT-2 text generation model."
      ]
    },
    {
      "cell_type": "markdown",
      "metadata": {
        "id": "uOKPaPMxlKRA",
        "colab_type": "text"
      },
      "source": [
        "Let's download the packages. Note tensorflow 1.x version is installed because the gpt2 package doesn't support 2.0 yet. This is also important to note if you want to deploy the model as docker image later."
      ]
    },
    {
      "cell_type": "code",
      "metadata": {
        "id": "Evq-Ru9WKbUy",
        "colab_type": "code",
        "outputId": "8e50d837-b606-4e13-a6fa-3721425e0a4a",
        "colab": {
          "base_uri": "https://localhost:8080/",
          "height": 153
        }
      },
      "source": [
        "%tensorflow_version 1.x\n",
        "#!pip install -q gpt-2-simple\n",
        "import gpt_2_simple as gpt2\n",
        "from datetime import datetime\n",
        "from google.colab import files"
      ],
      "execution_count": 1,
      "outputs": [
        {
          "output_type": "stream",
          "text": [
            "WARNING:tensorflow:\n",
            "The TensorFlow contrib module will not be included in TensorFlow 2.0.\n",
            "For more information, please see:\n",
            "  * https://github.com/tensorflow/community/blob/master/rfcs/20180907-contrib-sunset.md\n",
            "  * https://github.com/tensorflow/addons\n",
            "  * https://github.com/tensorflow/io (for I/O related ops)\n",
            "If you depend on functionality not listed there, please file an issue.\n",
            "\n"
          ],
          "name": "stdout"
        }
      ]
    },
    {
      "cell_type": "markdown",
      "metadata": {
        "id": "MJI5bsivmy7Q",
        "colab_type": "text"
      },
      "source": [
        "### Check GPU status"
      ]
    },
    {
      "cell_type": "markdown",
      "metadata": {
        "id": "lRMhzd97L-8q",
        "colab_type": "text"
      },
      "source": [
        "Since GPU is strongly recommended, check the status of GPU. Remember to select GPU in Tuntime -> Change runtime type."
      ]
    },
    {
      "cell_type": "code",
      "metadata": {
        "id": "yiTT-WEgK8Mh",
        "colab_type": "code",
        "outputId": "b38a480c-16fa-4313-9019-bf7c04f1e120",
        "colab": {
          "base_uri": "https://localhost:8080/",
          "height": 306
        }
      },
      "source": [
        "# Check which GPU is being run \n",
        "!nvidia-smi"
      ],
      "execution_count": 2,
      "outputs": [
        {
          "output_type": "stream",
          "text": [
            "Tue Nov 12 23:45:14 2019       \n",
            "+-----------------------------------------------------------------------------+\n",
            "| NVIDIA-SMI 430.50       Driver Version: 418.67       CUDA Version: 10.1     |\n",
            "|-------------------------------+----------------------+----------------------+\n",
            "| GPU  Name        Persistence-M| Bus-Id        Disp.A | Volatile Uncorr. ECC |\n",
            "| Fan  Temp  Perf  Pwr:Usage/Cap|         Memory-Usage | GPU-Util  Compute M. |\n",
            "|===============================+======================+======================|\n",
            "|   0  Tesla P100-PCIE...  Off  | 00000000:00:04.0 Off |                    0 |\n",
            "| N/A   40C    P0    27W / 250W |      0MiB / 16280MiB |      0%      Default |\n",
            "+-------------------------------+----------------------+----------------------+\n",
            "                                                                               \n",
            "+-----------------------------------------------------------------------------+\n",
            "| Processes:                                                       GPU Memory |\n",
            "|  GPU       PID   Type   Process name                             Usage      |\n",
            "|=============================================================================|\n",
            "|  No running processes found                                                 |\n",
            "+-----------------------------------------------------------------------------+\n"
          ],
          "name": "stdout"
        }
      ]
    },
    {
      "cell_type": "markdown",
      "metadata": {
        "id": "nlwxuwDsm603",
        "colab_type": "text"
      },
      "source": [
        "### GPT-2 Model download"
      ]
    },
    {
      "cell_type": "markdown",
      "metadata": {
        "id": "ACrM8jwkNPD1",
        "colab_type": "text"
      },
      "source": [
        "To train the model on new text, we need to download the GPT-2 model first. \n",
        "There are three released sizes of GPT-2:\n",
        "\n",
        "1. 124M (default): the \"small\" model, 500MB on disk.\n",
        "2. 355M: the \"medium\" model, 1.5GB on disk.\n",
        "3. 774M: the \"large\" model, cannot currently be finetuned with Colaboratory but can be used to generate text from the pretrained model.\n",
        "4. 1558M: the \"extra large\", true model. Will not work if a K80 GPU is attached to the notebook. (like 774M, it cannot be finetuned).\n",
        "\n",
        "This next cell downloads it from Google Cloud Storage and saves it in the Colaboratory VM at /models/<model_name>."
      ]
    },
    {
      "cell_type": "code",
      "metadata": {
        "id": "a1xdlC9QLeO6",
        "colab_type": "code",
        "colab": {}
      },
      "source": [
        "gpt2.download_gpt2(model_name=\"124M\")"
      ],
      "execution_count": 0,
      "outputs": []
    },
    {
      "cell_type": "markdown",
      "metadata": {
        "id": "aHi-kjrOnCs3",
        "colab_type": "text"
      },
      "source": [
        "### Uploading/loading your input text file."
      ]
    },
    {
      "cell_type": "markdown",
      "metadata": {
        "id": "Ybcq3sHyOPFo",
        "colab_type": "text"
      },
      "source": [
        "The best way to get input text to-be-trained into the Colaboratory VM, and to get the trained model out of Colaboratory, is to route it through Google Drive first.\n",
        "\n",
        "Running this cell (which will only work in Colaboratory) will mount your personal Google Drive in the VM, which later cells can use to get data in/out. (it will ask for an auth code; that auth is not saved anywhere)\n",
        "\n",
        "Alternatively, you can directly upload the text file to the notebook sidebar top left if its less than **10MB**."
      ]
    },
    {
      "cell_type": "code",
      "metadata": {
        "id": "fgOb92siNgqR",
        "colab_type": "code",
        "colab": {}
      },
      "source": [
        "gpt2.mount_gdrive()"
      ],
      "execution_count": 0,
      "outputs": []
    },
    {
      "cell_type": "code",
      "metadata": {
        "id": "cvF6ltO1Xwkz",
        "colab_type": "code",
        "colab": {}
      },
      "source": [
        "# Check contents of google drive\n",
        "!ls \"/content/drive/My Drive\""
      ],
      "execution_count": 0,
      "outputs": []
    },
    {
      "cell_type": "code",
      "metadata": {
        "id": "ZEUVgIpzOQ6x",
        "colab_type": "code",
        "colab": {}
      },
      "source": [
        "file_name = 'YTA_comments.txt'\n",
        "gpt2.copy_file_from_gdrive(file_name)"
      ],
      "execution_count": 0,
      "outputs": []
    },
    {
      "cell_type": "markdown",
      "metadata": {
        "id": "93Czgi3xnf-b",
        "colab_type": "text"
      },
      "source": [
        "### Fine tuning GPT2"
      ]
    },
    {
      "cell_type": "markdown",
      "metadata": {
        "id": "0lvTPKzRmtRE",
        "colab_type": "text"
      },
      "source": [
        "The next cell will start the finetuning of GPT-2. It creates a persistent TensorFlow session which stores the training config, then runs the training for the specified number of steps (to have the finetuning run indefinitely, set steps = -1).\n",
        "\n",
        "The model checkpoints will be saved in `/checkpoint/run1` by default. Make sure to change the `run_name` variable if you're training different versions. The checkpoints are saved every 500 steps (can be changed) and when the cell is stopped.\n",
        "\n",
        "The training might time out after a few hours, so make sure you end training and save the results so you don't lose them! You can simply stop the cell and it will auto-store the last checkpoint data. The model will serve from that last checkpoint.\n",
        "\n",
        "**NOTE:** If you want to rerun this cell, restart the VM first (Runtime -> Restart Runtime). You will need to rerun imports but not recopy files.\n",
        "\n",
        "Parameters for gpt2.finetune:\n",
        "\n",
        "* **restore_from:** Set to fresh to start training from the base GPT-2, or set to latest to restart training from an existing checkpoint.\n",
        "* **sample_every:** Number of steps to print example output.\n",
        "* **print_every:** Number of steps to print training progress.\n",
        "* **learning_rate:** Learning rate for the training. (default 1e-4, can lower to 1e-5 if you have `<`1MB input data)\n",
        "* **run_name:** Subfolder within checkpoint to save the model. This is useful if you want to work with multiple models (will also need to specify run_name when loading the model).\n",
        "* **overwrite:** Set to True if you want to continue finetuning an existing model (w/ restore_from='latest') without creating duplicate copies."
      ]
    },
    {
      "cell_type": "markdown",
      "metadata": {
        "id": "S362cP38sSOA",
        "colab_type": "text"
      },
      "source": [
        "The input used to finetune this model is from the first 6 months of subreddit [AITA](https://www.reddit.com/r/AmItheAsshole/). The texts are being used purely for educational purpose and the author doesn't endorse any of the \n",
        "writings."
      ]
    },
    {
      "cell_type": "code",
      "metadata": {
        "id": "Rfu8wTTuZGt4",
        "colab_type": "code",
        "outputId": "a8845829-7d53-46b5-99a4-e073e23a9c27",
        "colab": {
          "base_uri": "https://localhost:8080/",
          "height": 1000
        }
      },
      "source": [
        "sess = gpt2.start_tf_sess()\n",
        "\n",
        "gpt2.finetune(sess,\n",
        "              dataset=file_name,\n",
        "              model_name='124M',\n",
        "              steps=1000,\n",
        "              restore_from='fresh',\n",
        "              run_name='run1',\n",
        "              print_every=10,\n",
        "              sample_every=200,\n",
        "              save_every=200\n",
        "              )"
      ],
      "execution_count": 5,
      "outputs": [
        {
          "output_type": "stream",
          "text": [
            "WARNING:tensorflow:From /usr/local/lib/python3.6/dist-packages/gpt_2_simple/src/sample.py:17: where (from tensorflow.python.ops.array_ops) is deprecated and will be removed in a future version.\n",
            "Instructions for updating:\n",
            "Use tf.where in 2.0, which has the same broadcast rule as np.where\n",
            "Loading checkpoint models/124M/model.ckpt\n",
            "INFO:tensorflow:Restoring parameters from models/124M/model.ckpt\n"
          ],
          "name": "stdout"
        },
        {
          "output_type": "stream",
          "text": [
            "\r  0%|          | 0/1 [00:00<?, ?it/s]"
          ],
          "name": "stderr"
        },
        {
          "output_type": "stream",
          "text": [
            "Loading dataset...\n"
          ],
          "name": "stdout"
        },
        {
          "output_type": "stream",
          "text": [
            "\r100%|██████████| 1/1 [00:33<00:00, 33.59s/it]\n"
          ],
          "name": "stderr"
        },
        {
          "output_type": "stream",
          "text": [
            "dataset has 7201019 tokens\n",
            "Training...\n",
            "[10 | 17.95] loss=3.47 avg=3.47\n",
            "[20 | 30.27] loss=3.50 avg=3.48\n",
            "[30 | 42.58] loss=3.38 avg=3.45\n",
            "[40 | 54.91] loss=3.47 avg=3.45\n",
            "[50 | 67.25] loss=3.26 avg=3.42\n",
            "[60 | 79.56] loss=3.43 avg=3.42\n",
            "[70 | 91.85] loss=3.38 avg=3.41\n",
            "[80 | 104.21] loss=3.38 avg=3.41\n",
            "[90 | 116.53] loss=3.22 avg=3.39\n",
            "[100 | 128.83] loss=3.22 avg=3.37\n",
            "[110 | 141.15] loss=3.24 avg=3.36\n",
            "[120 | 153.47] loss=3.17 avg=3.34\n",
            "[130 | 165.79] loss=3.21 avg=3.33\n",
            "[140 | 178.12] loss=3.16 avg=3.32\n",
            "[150 | 190.43] loss=3.29 avg=3.32\n",
            "[160 | 202.76] loss=3.21 avg=3.31\n",
            "[170 | 215.07] loss=3.17 avg=3.30\n",
            "[180 | 227.41] loss=3.18 avg=3.29\n",
            "[190 | 239.74] loss=3.29 avg=3.29\n",
            "[200 | 252.05] loss=3.17 avg=3.28\n",
            "Saving checkpoint/run_1000000_comments_final/model-200\n",
            "======== SAMPLE 1 ========\n",
            " rights if his life is going to suffer if he finds out the truth. \n",
            "I have a story that a woman is dating an actress whose name I recognize and my entire life I would have to live like I'm her friend and it's not even worth it.\n",
            "The reason she made a conscious effort to hide it from her boyfriend is because she knew she might hurt his feelings. It's not even her place to give an opinion.\n",
            "The fact he did it and I have no doubt he is hurting his feelings as well is just plain ridiculous because he is trying to control that decision.\n",
            "YTA. YTA. \n",
            "No. It's not like the relationship is over \n",
            "Yta, no matter how many people who disagree it's still pretty cool. YTA because that’s the only reason that you told him you’d keep this.\n",
            "YTA.  Do not get me wrong, this is great and it's going to be a really good discussion.  But you shouldn't think you were the asshole.\n",
            "YTA, you can’t live without your own money and you’re entitled to what you want so don't expect that you take a huge risk.\n",
            "Yta, what’s up with that? She was right it was her choice as she’s not her friend and not her job to pick someone’s parents. I don’t blame you for wanting her to be a part of your parents’s children’s  \n",
            "YTA, and that’s going to lead to depression in my family.\n",
            "YTA. This is not a nice move. It’s not in any way a bad move either, though if you love her as a person for a living you probably need to grow the fuck out.\n",
            "YTA and you’re wrong \n",
            "YTA - your friend's a woman. You said her body type was a problem. She's not just not a person - she's also not a human! It's the law (and even then, it has to be spelled in English) and you never got around to applying this to her body type. You don't know what her body type really means and it sounds like you're not as smart as her parents. \n",
            "YTA. You didn't want to, didn't expect him to? That's a fucking dick move. You also just didn't like his tone. It's not as if he did anything creepy and rude. All of this being said, his reaction was kinda creepy, though.\n",
            "YTA.   This is one of the few people that I know is a serious dick\n",
            "YTA, I understand it is a dick move, but do you guys support the other child's disability? Your girlfriend isn't the one who has to be disabled to be an adult. Children can grow. \n",
            "Edit: not that big of a deal. No offense said.\n",
            "YTA.  It’d be nice to learn Mandarin as soon as a child is old enough to speak it.  But if your child learns Chinese and moves to a different language then I guess it goes against the wishes of some parents.  \n",
            "I don't get why you want to use Mandarin, I've been there and found Mandarin teachers to be a bit of a pain to be around. \n",
            "And yet you said this was really fun if he learned it. What you're doing here is being a dick.\n",
            "Forgive me, but your daughter has the right to be mad at you. You should just let your daughter learn something new that she won't be proud of for any longer. \n",
            "YTA You asked if it was fine to ask for a tip, so she took the opportunity to ask you to ask for a tip.\n",
            "I agree 100%. But it could’ve been worse to say that I'm not really in the mood for being rude/an asshole.\n",
            "I like the word shitty - I think it's appropriate to say that for both you.\n",
            "I’ve had friends ask me if I can be the asshole but I really don’t. I would say shit if the person they are asking had that attitude. You could also say he or she is not respectful and it’s not up to you to be disrespectful of other people’s decisions. \n",
            "YTA. Don't call her the asshole. Just talk it out with her. As much as I hate to admit it, if you wanted to, you could get her to work for you, but if you want to just do your job and not talk your way out of it, well that’s fine, the way it should be.\n",
            "Also, I was hoping some asshole guy that I talked to told me my problem is why I don't use my phone on my kids. I just got tired of waiting for it to be over and you just need to get off the phone\n",
            "\n",
            "[210 | 278.04] loss=3.04 avg=3.27\n",
            "[220 | 290.34] loss=3.25 avg=3.27\n",
            "[230 | 302.66] loss=3.23 avg=3.27\n",
            "[240 | 314.98] loss=3.27 avg=3.27\n",
            "[250 | 327.28] loss=3.23 avg=3.27\n",
            "[260 | 339.56] loss=3.17 avg=3.26\n",
            "[270 | 351.85] loss=3.19 avg=3.26\n",
            "[280 | 364.18] loss=3.21 avg=3.26\n",
            "[290 | 376.48] loss=3.21 avg=3.26\n",
            "[300 | 388.78] loss=3.21 avg=3.25\n",
            "[310 | 401.09] loss=3.12 avg=3.25\n",
            "[320 | 413.40] loss=3.24 avg=3.25\n",
            "[330 | 425.69] loss=3.16 avg=3.25\n",
            "[340 | 438.02] loss=3.09 avg=3.24\n",
            "[350 | 450.35] loss=3.23 avg=3.24\n",
            "[360 | 462.65] loss=3.27 avg=3.24\n",
            "[370 | 474.97] loss=3.17 avg=3.24\n",
            "[380 | 487.27] loss=3.19 avg=3.24\n",
            "[390 | 499.57] loss=3.12 avg=3.23\n",
            "[400 | 511.86] loss=3.10 avg=3.23\n",
            "Saving checkpoint/run_1000000_comments_final/model-400\n",
            "WARNING:tensorflow:From /usr/local/lib/python3.6/dist-packages/tensorflow_core/python/training/saver.py:963: remove_checkpoint (from tensorflow.python.training.checkpoint_management) is deprecated and will be removed in a future version.\n",
            "Instructions for updating:\n",
            "Use standard file APIs to delete files with this prefix.\n",
            "======== SAMPLE 1 ========\n",
            " she made a scene at the beginning and then you just got a reaction. She doesn't mean you don't know it was “wrong”. No one has to tell a mother that she was an awful mother. If she doesn’t feel the same, I don’t know how to explain it to my husband.\n",
            "YTA - You don't need to be with her, you can give me a heads up on some other shit or you can let her know that your feelings about her are in some way negative. \n",
            "Just because the woman doesn't want to go to sleep with you doesn’t mean she shouldn't have a say in the matter. It’s her decision and she could have some right to do so, but you really shouldn’t even have to try and explain yourself about it.\n",
            "YTA I'm a gay man and I have an entire section dedicated to my bf, but it makes me feel hurt even though I have every right to be proud of the LGBT community. My parents had a big part in my life so it's really up to me to honor him by being faithful to him. If you don't want to have this kind of relationship, let it go and move on and see what else happens. Your fiance's actions make me feel really horrible for him, but at the end of the day you will be an important part of the legacy that he had as a member of our family. \n",
            "NTA - Not all women in a relationship are the same or alike in all the way that he’s doing or how he feels. A boyfriend is doing the same thing and I’m sure you’re a little mad he didn’t even tell you the truth. But he’s making sure that his partner feels comfortable with him, even though it’s obvious they are dating him and that he can make it work if he decides to act the straight way he wants. \n",
            "Not to mention, your fiance’s fiancée was going to have a hard time accepting him in bed. So if you do want him to be your friend, you’re really willing to accept him, even if it’s a bit of a red flag. \n",
            "It’s not his problem, but it’s a big one. And you can understand the feeling. There are a lot of other things you should also understand.  What you’re saying is that what he’s doing is going to make you look bad to other couples. There will be other couples too; it’s just a part of your relationship. \n",
            "It also doesn’t seem like his new relationship, so yeah, YTA. The relationship is built on that part of your relationship and you don’t want to ruin that. It’s just another step in the wrong direction, especially not by his side. \n",
            "YTA - What is wrong with you? If this was an actual job that required you to attend class, you’d have been working. But this isn’t, it isn’t something you wanted to do. If you had a responsibility and you’re unwilling to help it is clear that you don’t have the will to do so.\n",
            "I was just in my 50s at a very young age and I was diagnosed with ADHD (addiction). My mom's parents said that she was going to do a thing to try and control my ADHD to ensure that it wasn't hurting my mom. When I was a child I told my mom that it wasn't hurting her or harming the lives of many people. And she went on to say it was not hurting any kids and it has been. It has also hurt her parents. As a teenager I would go around the world in an effort to teach her about how destructive of a decision it is and it has been. This is a fact and I hope that your dad sees what's going on.\n",
            "If you’re not comfortable you can’t have kids or anything and if you aren’t comfortable then they have to try to figure out what therapy or other help is. You didn’t just say, “my dad was always cruel, sometimes his family just gave him drugs” because you're not ready to help your dad. If your dad did that to you at that age he should be doing it to himself. Your girlfriend was being a really decent human too and you went out of your way to hurt her. Your friend would probably have done the same and you’d’ve ruined a great thing for both of them. \n",
            "YTA because you're not a child. He's allowed to feel he deserves to be loved and cherished by his parents.\n",
            "YTA. She is a little baby and will probably not be able to feed herself when she’s older. I’m not\n",
            "\n",
            "[410 | 536.02] loss=3.08 avg=3.23\n",
            "[420 | 548.34] loss=3.15 avg=3.22\n",
            "[430 | 560.64] loss=3.12 avg=3.22\n",
            "[440 | 572.95] loss=3.23 avg=3.22\n",
            "[450 | 585.26] loss=3.18 avg=3.22\n",
            "[460 | 597.56] loss=3.10 avg=3.22\n",
            "[470 | 609.86] loss=3.10 avg=3.21\n",
            "[480 | 622.18] loss=3.20 avg=3.21\n",
            "[490 | 634.49] loss=3.20 avg=3.21\n",
            "[500 | 646.81] loss=3.22 avg=3.21\n",
            "[510 | 659.14] loss=3.10 avg=3.21\n",
            "[520 | 671.46] loss=3.13 avg=3.21\n",
            "[530 | 683.77] loss=3.13 avg=3.21\n",
            "[540 | 696.08] loss=3.11 avg=3.20\n",
            "[550 | 708.36] loss=3.12 avg=3.20\n",
            "[560 | 720.67] loss=3.06 avg=3.20\n",
            "[570 | 732.98] loss=3.00 avg=3.19\n",
            "[580 | 745.27] loss=3.06 avg=3.19\n",
            "[590 | 757.58] loss=3.12 avg=3.19\n",
            "[600 | 769.87] loss=3.12 avg=3.19\n",
            "Saving checkpoint/run_1000000_comments_final/model-600\n",
            "======== SAMPLE 1 ========\n",
            " sounds this is why you should have let people do what they want, and I am sure some of them are going to be disappointed as well. \n",
            "YTA - Not for asking about it but for making a big deal about it. For the two weeks you asked whether YTA for being mad at her father, then for not even considering it. \n",
            "YTA: I feel like this will cause an issue and that’s why I’ve been here.\n",
            "YTA for the way you chose to discuss your friend’s identity in public. What kind of person are you? \n",
            "She's not a thief, she's a real person, someone who doesn't want to be in a fight with her partner and can honestly say. She wasn't a thief to start with, she was a real person and would tell you if you hurt her. I'm sorry but you fucked up. \n",
            "You are 100% TA here. It's her body. \n",
            "YTA. You're making her feel like she can't do what she wants without having to be nice. If she had your back she'd be doing something with her hormones, no one would believe you. Her body, however, wasn't going to change. You were the asshole here.\n",
            "YTA. There's no difference to you being on your own. They didn't know it would happen so there's the potential for being hurt. Don't worry about it.\n",
            "What’s your perspective?? \n",
            "She doesn’t need to think about it now, and for a couple minutes after she said no, I think she was upset about it and didn’t think about it. YTA. \n",
            "You’re an adult and have the right to tell your partner what they think. \n",
            "So you’re saying to your spouse that you just don’t have a place to talk about how you want to be treated so I should know a good place to find that. \n",
            "I really get why you are upset. Being a parent is incredibly difficult. Sometimes parents must have a hard time even getting the words out in their head as they are getting over the breakup of their parents. \n",
            "However, having a place to talk about how you want to be treated will hopefully help her understand that. It's a hard time, so maybe be helpful, let her decide what she wants to talk about with a friend. \n",
            "YTA. You think a person who enjoys themselves is less enjoyable than others or at the very least they're more intelligent, therefore you may want to have the conversation with someone with that background. It sounds like you're putting your feelings as an individual at risk in these situations.\n",
            "Also, it’s a good idea to try something new. \n",
            "YTA. You’re going to be TA in this. Grow up. There’s a lesson there. \n",
            "YTA- Not for being a total ass, but for making that judgment. You might not be able to take the money though, so why do you think it's okay to take out it?\n",
            "YTA, so what. \n",
            "This is a very sensitive subject. If your children’s body is made of fibers it has long term consequences on your child. If you’re in this position, you need to address what really happened before and what it’s like to have them grow the fuck up. \n",
            "YTA. I’m a woman in business. I don’t have to make that judgment myself, but I have a rule that if I make an employee change an extra dollar on their wages. If they work for a living, they can make that change. They’re all employees. All they have to do is not have a single job\n",
            "YTA because the word nudes is one of the most dangerous to describe a man who is only trying to get over something he has for himself. I don’t think there is a problem with a condom. I only use nudes because the only way to get over this is to have a conversation with whoever you want to date. \n",
            "I dont think the relationship is as strong as there were in the first place, but as a man, I believe that you need to take some common sense, and a certain attitude, and not put others ahead of yourself with this kind of action\n",
            "YTA. Your brother and her husband seem to be doing amazing things with their child.  I get it though. You should really consider this. \n",
            "You've been dating for over 10 years\n",
            " She's doing an incredible job with your daughter now. She is amazing. You’re a major stepfather. \n",
            "Get a tattoo? I don’t think this would be the most effective way to handle it.\n",
            "YTA if I were your mom I would totally make everyone cry and tell her I love her and that she deserves better.  But\n",
            "\n",
            "[610 | 793.90] loss=3.09 avg=3.19\n",
            "[620 | 806.21] loss=3.15 avg=3.18\n",
            "[630 | 818.51] loss=3.08 avg=3.18\n",
            "[640 | 830.82] loss=3.05 avg=3.18\n",
            "[650 | 843.13] loss=3.02 avg=3.18\n",
            "[660 | 855.47] loss=3.19 avg=3.18\n",
            "[670 | 867.78] loss=3.12 avg=3.18\n",
            "[680 | 880.10] loss=3.11 avg=3.17\n",
            "[690 | 892.39] loss=3.14 avg=3.17\n",
            "[700 | 904.70] loss=3.12 avg=3.17\n",
            "[710 | 917.01] loss=3.08 avg=3.17\n",
            "[720 | 929.32] loss=2.97 avg=3.17\n",
            "[730 | 941.66] loss=3.05 avg=3.16\n",
            "[740 | 953.96] loss=3.14 avg=3.16\n",
            "[750 | 966.27] loss=3.09 avg=3.16\n",
            "[760 | 978.58] loss=3.05 avg=3.16\n",
            "[770 | 990.92] loss=3.02 avg=3.16\n",
            "[780 | 1003.23] loss=3.08 avg=3.16\n",
            "[790 | 1015.58] loss=3.12 avg=3.16\n",
            "[800 | 1027.89] loss=3.10 avg=3.15\n",
            "Saving checkpoint/run_1000000_comments_final/model-800\n",
            "======== SAMPLE 1 ========\n",
            " not any less.\n",
            "That being said, if there's still any questions about what to expect and where to go the right way, ask them.  If you're a bit of an asshole and saying I won't come would help with your problem-solving, I don't think that's a big deal.  But if you are concerned that the amount of time it takes will help, it's probably best to consider all options and go with the time plans listed ahead of time.\n",
            "And if you're concerned that they can't bring you on day off, then if it's the whole point of getting to know your daughter, then yeah, you should go all in on it.  A little bit of self-assessment would put more emphasis on them for the rest of your life.  Especially if you're doing a lot of online dating without her (or someone you have no real knowledge of) as a solution.  It's not your place to make the effort to see your daughter all the time.\n",
            "When you're at your desk, a lot of people ask me when I do stuff for them. A lot of the time I'm going to be in the position of watching the other workers, and will take the tray and put it in a bin with some other stuff. And sometimes I'll look at it and say thanks for taking away from my desk while I'm doing something.  It's good to see that you appreciate it; don't let yourself be that person.\n",
            "As you mentioned, the only thing that could be improved is to let the person next shift stay on the job. That's a lot of effort. If you're concerned that you'll spend more time at an appointment if you're doing everything by yourself, then that makes sense.  But if you're worried that everyone else around you could feel like a burden, then that's fine. But if you want to make the effort to listen to her and make the effort to take her on a week's holiday on her way out, then that's your best opportunity.\n",
            "That being said, it's important to remember that people with OCD will have this problem for a very long time and you won't be able to fix it for a long, long time. There may be a period of time when they feel like they're missing out on something but if the OCD starts making the effort, the person with OCD will know they've been screwed.\n",
            "I don't think you've really understood just how the OCD thing works; you can't just tell someone they have OCD and it's super annoying? They're going through life without even saying a word on how they get it? They're not even saying it? No wonder she's worried. \n",
            "This is probably the first time you've made a mistake or a misunderstanding about her and your comfort level with her.\n",
            "Now when I think about it, there are a lot people you wouldn't be comfortable with talking to, and you are. Just because these people are in good homes doesn't mean they're not in bad homes. For example, many people who have OCD are living in bad housing because they get into that sort of situation. They would be able to talk with you because they wouldn't feel comfortable talking to someone who might potentially be in the worst kind of way about their condition and their mental health. So there are still people who might not feel comfortable talking about how they feel with people who are in that kind of bad life because they aren't in the right place. \n",
            "Your life with your friends is not going to be easy. \n",
            "I hope you can see how hard it is, because this is going to suck. You are supposed to be your friend and treat others very well.\n",
            "YTA. You know what you’re doing and he wants to keep it clean. \n",
            "YTA. I don’t understand how you can be this oblivious. It’s such a ridiculous thing to ask people to do. I’d understand but that’s just my perspective. \n",
            "YTA, your parents could have handled the situation better. This kind of stuff is awful. \n",
            "YTA, you said she has her own apartment (you don’t own your own residence) and she’s trying to get her share you guys? You say she’s trying to take it over because she’s in a relationship with you. You’ve just told her you don’t want her to take some (and maybe not even give you the room) and now you want to evict her and take the responsibility for her own. \n",
            "So instead of just getting a room and letting her rent the space your not really caring if you’re able to find a room for her on the free time\n",
            "YTA for telling her she can't date and having no control over her body. But you should never say what you did without consulting her.\n",
            "YTA - I believe you are assuming the father\n",
            "\n",
            "[810 | 1052.20] loss=3.10 avg=3.15\n",
            "[820 | 1064.52] loss=3.10 avg=3.15\n",
            "interrupted\n",
            "Saving checkpoint/run_1000000_comments_final/model-827\n"
          ],
          "name": "stdout"
        }
      ]
    },
    {
      "cell_type": "markdown",
      "metadata": {
        "id": "A8AXcW1pGjBt",
        "colab_type": "text"
      },
      "source": [
        "Remember to copy the last checkpoint to Google drive. You can then download the model from Google drive."
      ]
    },
    {
      "cell_type": "code",
      "metadata": {
        "id": "ED5em-E2GmKq",
        "colab_type": "code",
        "colab": {}
      },
      "source": [
        "gpt2.copy_checkpoint_to_gdrive(run_name='run1')"
      ],
      "execution_count": 0,
      "outputs": []
    },
    {
      "cell_type": "markdown",
      "metadata": {
        "id": "fzIs3qwzvlyc",
        "colab_type": "text"
      },
      "source": [
        "### Generate text from trained model"
      ]
    },
    {
      "cell_type": "markdown",
      "metadata": {
        "id": "8im5rf13vHyN",
        "colab_type": "text"
      },
      "source": [
        "Use the generate command to generate a sample output. \n",
        "\n",
        "Helpful parameters for gpt2.generate:\n",
        "\n",
        "* **length:** Number of tokens to generate (default 1023, the maximum)\n",
        "* **temperature:** The higher the temperature, the crazier the text (default 0.7, recommended to keep between 0.7 and 1.0)\n",
        "* **top_k:** Limits the generated guesses to the top k guesses (default 0 which disables the behavior; if the generated output is super crazy, you may want to set top_k=40)\n",
        "* **top_p:** Nucleus sampling: limits the generated guesses to a cumulative probability. (gets good results on a dataset with top_p=0.9)\n",
        "* **truncate:** Truncates the input text until a given sequence, excluding that sequence (e.g. if `truncate='<|endoftext|>'`, the returned text will include everything before the first <|endoftext|>). It may be useful to combine this with a smaller length if the input texts are short. You can also use `'\\n'` to generate only 1 line of output.\n",
        "* **include_prefix:** If using truncate and `include_prefix=False`, the specified prefix will not be included in the returned text."
      ]
    },
    {
      "cell_type": "code",
      "metadata": {
        "id": "LMEe11T8tT1X",
        "colab_type": "code",
        "colab": {
          "base_uri": "https://localhost:8080/",
          "height": 34
        },
        "outputId": "c9f76bc6-b587-45dc-d35b-7ed846baef15"
      },
      "source": [
        "gpt2.generate(sess, run_name='run1',\n",
        "              length=100,\n",
        "              prefix='YTA.',\n",
        "              truncate='\\n')"
      ],
      "execution_count": 17,
      "outputs": [
        {
          "output_type": "stream",
          "text": [
            "YTA. If he makes you pay for the seat you can change seats in there so you can recline.\n"
          ],
          "name": "stdout"
        }
      ]
    },
    {
      "cell_type": "markdown",
      "metadata": {
        "id": "bNjfsQW0wmX3",
        "colab_type": "text"
      },
      "source": [
        "### Loading a pretrained model"
      ]
    },
    {
      "cell_type": "markdown",
      "metadata": {
        "id": "e4tUj8U7FzOK",
        "colab_type": "text"
      },
      "source": [
        "You can also load a different pretrained model and generate text."
      ]
    },
    {
      "cell_type": "code",
      "metadata": {
        "id": "6d8b-6PHtXsN",
        "colab_type": "code",
        "colab": {}
      },
      "source": [
        "sess = gpt2.start_tf_sess()\n",
        "gpt2.load_gpt2(sess, run_name='run2')\n",
        "gpt2.generate(sess, run_name='run2',\n",
        "              length=100,\n",
        "              prefix='Coca cola',\n",
        "              truncate='\\n')"
      ],
      "execution_count": 0,
      "outputs": []
    },
    {
      "cell_type": "code",
      "metadata": {
        "id": "Y370mE73wywv",
        "colab_type": "code",
        "colab": {}
      },
      "source": [
        ""
      ],
      "execution_count": 0,
      "outputs": []
    }
  ]
}